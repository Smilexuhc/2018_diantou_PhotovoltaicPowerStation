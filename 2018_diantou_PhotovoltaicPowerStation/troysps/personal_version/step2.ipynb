{
 "cells": [
  {
   "cell_type": "code",
   "execution_count": 147,
   "metadata": {},
   "outputs": [],
   "source": [
    "import pandas as pd\n",
    "import numpy as np\n",
    "import matplotlib.pyplot as plt\n",
    "\n",
    "from sklearn.model_selection import train_test_split\n",
    "from sklearn.pipeline import make_pipeline\n",
    "from sklearn import preprocessing\n",
    "from sklearn.model_selection import GridSearchCV\n",
    "from sklearn.metrics import mean_squared_error, r2_score\n",
    "from sklearn.externals import joblib\n",
    "from sklearn import linear_model\n",
    "from sklearn.ensemble import RandomForestRegressor"
   ]
  },
  {
   "cell_type": "code",
   "execution_count": 148,
   "metadata": {},
   "outputs": [],
   "source": [
    "train_data = pd.read_csv('../data/public.train.csv')\n",
    "test_data = pd.read_csv('../data/public.test.csv')\n"
   ]
  },
  {
   "cell_type": "code",
   "execution_count": 149,
   "metadata": {},
   "outputs": [],
   "source": [
    "y = train_data['发电量']\n",
    "X = train_data.drop(['ID','发电量'], axis=1)\n",
    "\n",
    "# 简单抽样   但是根据题干尝试使用分层抽样\n",
    "# X_train, X_test, y_train, y_test = train_test_split(X, y, \n",
    "#                                                     test_size=0.2, \n",
    "#                                                     random_state=233, \n",
    "#                                                    )"
   ]
  },
  {
   "cell_type": "code",
   "execution_count": 150,
   "metadata": {},
   "outputs": [
    {
     "data": {
      "text/plain": [
       "<matplotlib.axes._subplots.AxesSubplot at 0x7f96e4a373c8>"
      ]
     },
     "execution_count": 150,
     "metadata": {},
     "output_type": "execute_result"
    },
    {
     "data": {
      "image/png": "[encoded data removed]",
      "text/plain": [
       "<Figure size 432x288 with 1 Axes>"
      ]
     },
     "metadata": {},
     "output_type": "display_data"
    }
   ],
   "source": [
    "%matplotlib inline\n",
    "X['板温'].hist(bins=10)"
   ]
  },
  {
   "cell_type": "code",
   "execution_count": 151,
   "metadata": {},
   "outputs": [
    {
     "data": {
      "text/plain": [
       "0      -19.0\n",
       "1      -18.0\n",
       "2      -17.0\n",
       "3      -15.0\n",
       "4      -14.0\n",
       "5      -14.0\n",
       "6      -11.0\n",
       "7      -10.0\n",
       "8      -10.0\n",
       "9       -8.0\n",
       "10      -5.0\n",
       "11      -4.0\n",
       "12      -3.0\n",
       "13      -3.0\n",
       "14      -2.0\n",
       "15      -1.0\n",
       "16       1.0\n",
       "17       1.0\n",
       "18       1.0\n",
       "19       1.0\n",
       "20       1.0\n",
       "21       2.0\n",
       "22       4.0\n",
       "23       4.0\n",
       "24       5.0\n",
       "25       5.0\n",
       "26       6.0\n",
       "27       6.0\n",
       "28       6.0\n",
       "29       7.0\n",
       "        ... \n",
       "8970    29.0\n",
       "8971    30.0\n",
       "8972    31.0\n",
       "8973    31.0\n",
       "8974    32.0\n",
       "8975    32.0\n",
       "8976    33.0\n",
       "8977    32.0\n",
       "8978    32.0\n",
       "8979    32.0\n",
       "8980    32.0\n",
       "8981    33.0\n",
       "8982    33.0\n",
       "8983    34.0\n",
       "8984    33.0\n",
       "8985    33.0\n",
       "8986    33.0\n",
       "8987    34.0\n",
       "8988    34.0\n",
       "8989    34.0\n",
       "8990    32.0\n",
       "8991    32.0\n",
       "8992    33.0\n",
       "8993    35.0\n",
       "8994    35.0\n",
       "8995    36.0\n",
       "8996    37.0\n",
       "8997    37.0\n",
       "8998    37.0\n",
       "8999     1.0\n",
       "Name: 板温分层, Length: 9000, dtype: float64"
      ]
     },
     "execution_count": 151,
     "metadata": {},
     "output_type": "execute_result"
    }
   ],
   "source": [
    "X[\"板温分层\"] = np.ceil(X['板温'])\n",
    "X[\"板温分层\"]\n"
   ]
  },
  {
   "cell_type": "code",
   "execution_count": 152,
   "metadata": {},
   "outputs": [
    {
     "data": {
      "text/plain": [
       " 5.0     366\n",
       " 1.0     347\n",
       " 6.0     320\n",
       " 3.0     315\n",
       " 4.0     302\n",
       " 7.0     297\n",
       " 9.0     285\n",
       " 8.0     271\n",
       " 2.0     268\n",
       "-0.0     254\n",
       "-5.0     247\n",
       "-2.0     242\n",
       " 10.0    238\n",
       "-3.0     232\n",
       "-1.0     227\n",
       "-6.0     225\n",
       "-4.0     216\n",
       " 17.0    212\n",
       " 19.0    210\n",
       " 13.0    208\n",
       " 11.0    199\n",
       "-7.0     197\n",
       " 12.0    196\n",
       " 16.0    194\n",
       " 18.0    181\n",
       " 21.0    173\n",
       " 15.0    167\n",
       " 23.0    167\n",
       "-8.0     162\n",
       " 22.0    159\n",
       "        ... \n",
       " 24.0    131\n",
       " 25.0    123\n",
       "-9.0     117\n",
       "-10.0    116\n",
       " 26.0    114\n",
       " 27.0     95\n",
       "-11.0     94\n",
       " 29.0     79\n",
       " 28.0     73\n",
       "-12.0     68\n",
       " 31.0     65\n",
       "-13.0     65\n",
       " 32.0     55\n",
       " 30.0     52\n",
       "-14.0     51\n",
       " 33.0     50\n",
       "-15.0     44\n",
       "-16.0     34\n",
       " 34.0     32\n",
       "-17.0     31\n",
       "-18.0     24\n",
       " 35.0     23\n",
       "-19.0     20\n",
       "-20.0     16\n",
       " 36.0     12\n",
       "-22.0      9\n",
       "-21.0      9\n",
       " 37.0      7\n",
       "-23.0      6\n",
       "-24.0      2\n",
       "Name: 板温分层, Length: 62, dtype: int64"
      ]
     },
     "execution_count": 152,
     "metadata": {},
     "output_type": "execute_result"
    }
   ],
   "source": [
    "X[\"板温分层\"].value_counts()"
   ]
  },
  {
   "cell_type": "code",
   "execution_count": 153,
   "metadata": {},
   "outputs": [
    {
     "data": {
      "text/plain": [
       "<matplotlib.axes._subplots.AxesSubplot at 0x7f96e3fa8400>"
      ]
     },
     "execution_count": 153,
     "metadata": {},
     "output_type": "execute_result"
    },
    {
     "data": {
      "image/png": "[encoded data removed]",
      "text/plain": [
       "<Figure size 432x288 with 1 Axes>"
      ]
     },
     "metadata": {},
     "output_type": "display_data"
    }
   ],
   "source": [
    "X['板温分层'].hist(bins=100 )"
   ]
  },
  {
   "cell_type": "code",
   "execution_count": 154,
   "metadata": {},
   "outputs": [
    {
     "name": "stdout",
     "output_type": "stream",
     "text": [
      "TRAIN: [7537  916 6125 ... 1032 1642 3052] TEST: [6417 4417 7637 ...  766  115 4380]\n"
     ]
    }
   ],
   "source": [
    "from sklearn.model_selection import StratifiedShuffleSplit\n",
    "\n",
    "split = StratifiedShuffleSplit(n_splits=1, test_size=0.2, random_state=42)\n",
    "for train_index, test_index in split.split(X, X['板温分层']):\n",
    "    print(\"TRAIN:\", train_index, \"TEST:\", test_index)\n",
    "    X_train, X_test = X.loc[train_index], X.loc[test_index]\n",
    "    y_train, y_test = y.loc[train_index], y.loc[test_index]\n"
   ]
  },
  {
   "cell_type": "code",
   "execution_count": 155,
   "metadata": {},
   "outputs": [
    {
     "data": {
      "text/plain": [
       "5.0    0.040694\n",
       "1.0    0.038611\n",
       "6.0    0.035556\n",
       "3.0    0.035000\n",
       "4.0    0.033472\n",
       "Name: 板温分层, dtype: float64"
      ]
     },
     "execution_count": 155,
     "metadata": {},
     "output_type": "execute_result"
    }
   ],
   "source": [
    "(X_train['板温分层'].value_counts() / len(X_train['板温分层'])).head()"
   ]
  },
  {
   "cell_type": "code",
   "execution_count": 156,
   "metadata": {},
   "outputs": [
    {
     "data": {
      "text/plain": [
       "5.0    0.040667\n",
       "1.0    0.038556\n",
       "6.0    0.035556\n",
       "3.0    0.035000\n",
       "4.0    0.033556\n",
       "Name: 板温分层, dtype: float64"
      ]
     },
     "execution_count": 156,
     "metadata": {},
     "output_type": "execute_result"
    }
   ],
   "source": [
    "(X['板温分层'].value_counts() / len(X['板温分层'])).head()"
   ]
  },
  {
   "cell_type": "code",
   "execution_count": 157,
   "metadata": {},
   "outputs": [],
   "source": [
    "def plate_temperature_cat_proportions(data):\n",
    "    return data[\"板温分层\"].value_counts() / len(data)\n",
    "\n",
    "train_set, test_set = train_test_split(X, test_size=0.2, random_state=42)\n",
    "\n",
    "compare_props = pd.DataFrame({\n",
    "    \"Overall\": plate_temperature_cat_proportions(X),\n",
    "    \"Stratified\": plate_temperature_cat_proportions(X_train),\n",
    "    \"Random\": plate_temperature_cat_proportions(train_set),\n",
    "}).sort_index()\n",
    "compare_props[\"Rand. %error\"] = 100 * compare_props[\"Random\"] / compare_props[\"Overall\"] - 100\n",
    "compare_props[\"Strat. %error\"] = 100 * compare_props[\"Stratified\"] / compare_props[\"Overall\"] - 100"
   ]
  },
  {
   "cell_type": "code",
   "execution_count": 158,
   "metadata": {},
   "outputs": [
    {
     "data": {
      "text/html": [
       "<div>\n",
       "<style scoped>\n",
       "    .dataframe tbody tr th:only-of-type {\n",
       "        vertical-align: middle;\n",
       "    }\n",
       "\n",
       "    .dataframe tbody tr th {\n",
       "        vertical-align: top;\n",
       "    }\n",
       "\n",
       "    .dataframe thead th {\n",
       "        text-align: right;\n",
       "    }\n",
       "</style>\n",
       "<table border=\"1\" class=\"dataframe\">\n",
       "  <thead>\n",
       "    <tr style=\"text-align: right;\">\n",
       "      <th></th>\n",
       "      <th>Overall</th>\n",
       "      <th>Stratified</th>\n",
       "      <th>Random</th>\n",
       "      <th>Rand. %error</th>\n",
       "      <th>Strat. %error</th>\n",
       "    </tr>\n",
       "  </thead>\n",
       "  <tbody>\n",
       "    <tr>\n",
       "      <th>-24.0</th>\n",
       "      <td>0.000222</td>\n",
       "      <td>0.000278</td>\n",
       "      <td>0.000278</td>\n",
       "      <td>25.000000</td>\n",
       "      <td>25.000000</td>\n",
       "    </tr>\n",
       "    <tr>\n",
       "      <th>-23.0</th>\n",
       "      <td>0.000667</td>\n",
       "      <td>0.000694</td>\n",
       "      <td>0.000694</td>\n",
       "      <td>4.166667</td>\n",
       "      <td>4.166667</td>\n",
       "    </tr>\n",
       "    <tr>\n",
       "      <th>-22.0</th>\n",
       "      <td>0.001000</td>\n",
       "      <td>0.000972</td>\n",
       "      <td>0.000972</td>\n",
       "      <td>-2.777778</td>\n",
       "      <td>-2.777778</td>\n",
       "    </tr>\n",
       "    <tr>\n",
       "      <th>-21.0</th>\n",
       "      <td>0.001000</td>\n",
       "      <td>0.000972</td>\n",
       "      <td>0.000833</td>\n",
       "      <td>-16.666667</td>\n",
       "      <td>-2.777778</td>\n",
       "    </tr>\n",
       "    <tr>\n",
       "      <th>-20.0</th>\n",
       "      <td>0.001778</td>\n",
       "      <td>0.001806</td>\n",
       "      <td>0.001528</td>\n",
       "      <td>-14.062500</td>\n",
       "      <td>1.562500</td>\n",
       "    </tr>\n",
       "    <tr>\n",
       "      <th>-19.0</th>\n",
       "      <td>0.002222</td>\n",
       "      <td>0.002222</td>\n",
       "      <td>0.002500</td>\n",
       "      <td>12.500000</td>\n",
       "      <td>0.000000</td>\n",
       "    </tr>\n",
       "    <tr>\n",
       "      <th>-18.0</th>\n",
       "      <td>0.002667</td>\n",
       "      <td>0.002639</td>\n",
       "      <td>0.002639</td>\n",
       "      <td>-1.041667</td>\n",
       "      <td>-1.041667</td>\n",
       "    </tr>\n",
       "    <tr>\n",
       "      <th>-17.0</th>\n",
       "      <td>0.003444</td>\n",
       "      <td>0.003472</td>\n",
       "      <td>0.003611</td>\n",
       "      <td>4.838710</td>\n",
       "      <td>0.806452</td>\n",
       "    </tr>\n",
       "    <tr>\n",
       "      <th>-16.0</th>\n",
       "      <td>0.003778</td>\n",
       "      <td>0.003750</td>\n",
       "      <td>0.003194</td>\n",
       "      <td>-15.441176</td>\n",
       "      <td>-0.735294</td>\n",
       "    </tr>\n",
       "    <tr>\n",
       "      <th>-15.0</th>\n",
       "      <td>0.004889</td>\n",
       "      <td>0.004861</td>\n",
       "      <td>0.005000</td>\n",
       "      <td>2.272727</td>\n",
       "      <td>-0.568182</td>\n",
       "    </tr>\n",
       "    <tr>\n",
       "      <th>-14.0</th>\n",
       "      <td>0.005667</td>\n",
       "      <td>0.005694</td>\n",
       "      <td>0.005417</td>\n",
       "      <td>-4.411765</td>\n",
       "      <td>0.490196</td>\n",
       "    </tr>\n",
       "    <tr>\n",
       "      <th>-13.0</th>\n",
       "      <td>0.007222</td>\n",
       "      <td>0.007222</td>\n",
       "      <td>0.008194</td>\n",
       "      <td>13.461538</td>\n",
       "      <td>0.000000</td>\n",
       "    </tr>\n",
       "    <tr>\n",
       "      <th>-12.0</th>\n",
       "      <td>0.007556</td>\n",
       "      <td>0.007500</td>\n",
       "      <td>0.008056</td>\n",
       "      <td>6.617647</td>\n",
       "      <td>-0.735294</td>\n",
       "    </tr>\n",
       "    <tr>\n",
       "      <th>-11.0</th>\n",
       "      <td>0.010444</td>\n",
       "      <td>0.010417</td>\n",
       "      <td>0.010833</td>\n",
       "      <td>3.723404</td>\n",
       "      <td>-0.265957</td>\n",
       "    </tr>\n",
       "    <tr>\n",
       "      <th>-10.0</th>\n",
       "      <td>0.012889</td>\n",
       "      <td>0.012917</td>\n",
       "      <td>0.012639</td>\n",
       "      <td>-1.939655</td>\n",
       "      <td>0.215517</td>\n",
       "    </tr>\n",
       "    <tr>\n",
       "      <th>-9.0</th>\n",
       "      <td>0.013000</td>\n",
       "      <td>0.013056</td>\n",
       "      <td>0.012222</td>\n",
       "      <td>-5.982906</td>\n",
       "      <td>0.427350</td>\n",
       "    </tr>\n",
       "    <tr>\n",
       "      <th>-8.0</th>\n",
       "      <td>0.018000</td>\n",
       "      <td>0.018056</td>\n",
       "      <td>0.018333</td>\n",
       "      <td>1.851852</td>\n",
       "      <td>0.308642</td>\n",
       "    </tr>\n",
       "    <tr>\n",
       "      <th>-7.0</th>\n",
       "      <td>0.021889</td>\n",
       "      <td>0.021944</td>\n",
       "      <td>0.020833</td>\n",
       "      <td>-4.822335</td>\n",
       "      <td>0.253807</td>\n",
       "    </tr>\n",
       "    <tr>\n",
       "      <th>-6.0</th>\n",
       "      <td>0.025000</td>\n",
       "      <td>0.025000</td>\n",
       "      <td>0.024583</td>\n",
       "      <td>-1.666667</td>\n",
       "      <td>0.000000</td>\n",
       "    </tr>\n",
       "    <tr>\n",
       "      <th>-5.0</th>\n",
       "      <td>0.027444</td>\n",
       "      <td>0.027500</td>\n",
       "      <td>0.027083</td>\n",
       "      <td>-1.315789</td>\n",
       "      <td>0.202429</td>\n",
       "    </tr>\n",
       "  </tbody>\n",
       "</table>\n",
       "</div>"
      ],
      "text/plain": [
       "        Overall  Stratified    Random  Rand. %error  Strat. %error\n",
       "-24.0  0.000222    0.000278  0.000278     25.000000      25.000000\n",
       "-23.0  0.000667    0.000694  0.000694      4.166667       4.166667\n",
       "-22.0  0.001000    0.000972  0.000972     -2.777778      -2.777778\n",
       "-21.0  0.001000    0.000972  0.000833    -16.666667      -2.777778\n",
       "-20.0  0.001778    0.001806  0.001528    -14.062500       1.562500\n",
       "-19.0  0.002222    0.002222  0.002500     12.500000       0.000000\n",
       "-18.0  0.002667    0.002639  0.002639     -1.041667      -1.041667\n",
       "-17.0  0.003444    0.003472  0.003611      4.838710       0.806452\n",
       "-16.0  0.003778    0.003750  0.003194    -15.441176      -0.735294\n",
       "-15.0  0.004889    0.004861  0.005000      2.272727      -0.568182\n",
       "-14.0  0.005667    0.005694  0.005417     -4.411765       0.490196\n",
       "-13.0  0.007222    0.007222  0.008194     13.461538       0.000000\n",
       "-12.0  0.007556    0.007500  0.008056      6.617647      -0.735294\n",
       "-11.0  0.010444    0.010417  0.010833      3.723404      -0.265957\n",
       "-10.0  0.012889    0.012917  0.012639     -1.939655       0.215517\n",
       "-9.0   0.013000    0.013056  0.012222     -5.982906       0.427350\n",
       "-8.0   0.018000    0.018056  0.018333      1.851852       0.308642\n",
       "-7.0   0.021889    0.021944  0.020833     -4.822335       0.253807\n",
       "-6.0   0.025000    0.025000  0.024583     -1.666667       0.000000\n",
       "-5.0   0.027444    0.027500  0.027083     -1.315789       0.202429"
      ]
     },
     "execution_count": 158,
     "metadata": {},
     "output_type": "execute_result"
    }
   ],
   "source": [
    "compare_props.head(20)"
   ]
  },
  {
   "cell_type": "code",
   "execution_count": 159,
   "metadata": {},
   "outputs": [
    {
     "data": {
      "text/plain": [
       "7537    12.0\n",
       "916     -2.0\n",
       "6125    23.0\n",
       "5063    -8.0\n",
       "1499     3.0\n",
       "Name: 板温分层, dtype: float64"
      ]
     },
     "execution_count": 159,
     "metadata": {},
     "output_type": "execute_result"
    }
   ],
   "source": [
    "X_train['板温分层'].head()"
   ]
  },
  {
   "cell_type": "code",
   "execution_count": 160,
   "metadata": {},
   "outputs": [
    {
     "data": {
      "text/plain": [
       "6417    19.0\n",
       "4417    -3.0\n",
       "7637    16.0\n",
       "4100    -7.0\n",
       "4259    14.0\n",
       "Name: 板温分层, dtype: float64"
      ]
     },
     "execution_count": 160,
     "metadata": {},
     "output_type": "execute_result"
    }
   ],
   "source": [
    "X_test['板温分层'].head()"
   ]
  },
  {
   "cell_type": "code",
   "execution_count": 161,
   "metadata": {},
   "outputs": [],
   "source": [
    "for set_ in (X_train, X_test):\n",
    "    set_.drop([\"板温分层\"], axis=1, inplace=True)\n",
    "\n",
    "#     for set in (strat_train_set, strat_test_set):\n",
    "#     set.drop([\"income_cat\"], axis=1, inplace=True)"
   ]
  },
  {
   "cell_type": "code",
   "execution_count": 162,
   "metadata": {},
   "outputs": [
    {
     "name": "stdout",
     "output_type": "stream",
     "text": [
      "已删除\n"
     ]
    }
   ],
   "source": [
    "try:\n",
    "    X_train['板温分层'].head(), X_test['板温分层'].head()\n",
    "except KeyError:\n",
    "    print(\"已删除\")"
   ]
  },
  {
   "cell_type": "code",
   "execution_count": 163,
   "metadata": {},
   "outputs": [
    {
     "data": {
      "text/plain": [
       "(         板温  现场温度  光照强度    转换效率   转换效率A   转换效率B   转换效率C  电压A  电压B  电压C   电流A  \\\n",
       " 7537  11.76  10.8   166   18.22   18.91   17.66   18.09  650  647  644  1.45   \n",
       " 916   -2.10 -11.9   307   40.83   40.88   40.65   40.96  693  693  689  5.18   \n",
       " 6125  22.14   4.8   687   23.44   23.30   23.16   23.85  624  621  621  8.00   \n",
       " 5063  -8.66 -12.0   296   29.26   28.96   28.48   30.35  720  719  718  3.33   \n",
       " 1499   2.43  -0.9     8  530.69  524.66  527.45  539.97  685  681  682  1.78   \n",
       " \n",
       "        电流B   电流C      功率A      功率B      功率C     平均功率   风速   风向  \n",
       " 7537  1.36  1.40   942.50   879.92   901.60   908.01  4.7  277  \n",
       " 916   5.15  5.22  3589.74  3568.95  3596.58  3585.09  1.5   62  \n",
       " 6125  7.99  8.23  4992.00  4961.79  5110.83  5021.54  1.7  226  \n",
       " 5063  3.28  3.50  2397.60  2358.32  2513.00  2422.97  1.8   44  \n",
       " 1499  1.80  1.84  1219.30  1225.80  1254.88  1233.33  1.7  280  , 7200)"
      ]
     },
     "execution_count": 163,
     "metadata": {},
     "output_type": "execute_result"
    }
   ],
   "source": [
    "X_train.head(), len(X_train)"
   ]
  },
  {
   "cell_type": "code",
   "execution_count": 164,
   "metadata": {},
   "outputs": [
    {
     "data": {
      "text/plain": [
       "(7537     1.838621\n",
       " 916      7.397647\n",
       " 6125    10.604942\n",
       " 5063     4.955602\n",
       " 1499     2.391720\n",
       " Name: 发电量, dtype: float64, 7200)"
      ]
     },
     "execution_count": 164,
     "metadata": {},
     "output_type": "execute_result"
    }
   ],
   "source": [
    "y_train.head(), len(y_train)"
   ]
  },
  {
   "cell_type": "markdown",
   "metadata": {},
   "source": [
    "数据探索和可视化、发现规律\n"
   ]
  },
  {
   "cell_type": "code",
   "execution_count": 165,
   "metadata": {},
   "outputs": [
    {
     "data": {
      "text/plain": [
       "GridSearchCV(cv=10, error_score='raise',\n",
       "       estimator=Pipeline(memory=None,\n",
       "     steps=[('standardscaler', StandardScaler(copy=True, with_mean=True, with_std=True)), ('randomforestregressor', RandomForestRegressor(bootstrap=True, criterion='mse', max_depth=None,\n",
       "           max_features='auto', max_leaf_nodes=None,\n",
       "           min_impurity_decr...mators=100, n_jobs=1,\n",
       "           oob_score=False, random_state=None, verbose=0, warm_start=False))]),\n",
       "       fit_params=None, iid=True, n_jobs=1,\n",
       "       param_grid={'randomforestregressor__max_features': ['sqrt'], 'randomforestregressor__max_depth': [None]},\n",
       "       pre_dispatch='2*n_jobs', refit=True, return_train_score='warn',\n",
       "       scoring=None, verbose=0)"
      ]
     },
     "execution_count": 165,
     "metadata": {},
     "output_type": "execute_result"
    }
   ],
   "source": [
    "scaler = preprocessing.StandardScaler().fit(X_train)\n",
    "X_train_scaled = scaler.transform(X_train)\n",
    "X_test_scaled = scaler.transform(X_test)\n",
    "pipeline = make_pipeline(preprocessing.StandardScaler(), \n",
    "                         RandomForestRegressor(n_estimators=100))\n",
    "\n",
    "hyperparameters = { 'randomforestregressor__max_features' : [ 'sqrt'],\n",
    "                  'randomforestregressor__max_depth': [None]}\n",
    "\n",
    "\n",
    "# 5. Declare data preprocessing steps\n",
    "pipeline = make_pipeline(preprocessing.StandardScaler(), \n",
    "                         RandomForestRegressor(n_estimators=100))\n",
    " \n",
    "# 6. Declare hyperparameters to tune\n",
    "hyperparameters = { 'randomforestregressor__max_features' : [ 'sqrt'],\n",
    "                  'randomforestregressor__max_depth': [None]}\n",
    " \n",
    "\n",
    "# 7. Tune model using cross-validation pipeline\n",
    "clf = GridSearchCV(pipeline, hyperparameters, cv=10)\n",
    " \n",
    "clf.fit(X_train, y_train)\n",
    "\n"
   ]
  },
  {
   "cell_type": "code",
   "execution_count": 166,
   "metadata": {},
   "outputs": [
    {
     "name": "stdout",
     "output_type": "stream",
     "text": [
      "0.9975505530256369\n",
      "0.028606347417402374\n"
     ]
    }
   ],
   "source": [
    "pred = clf.predict(X_test)\n",
    "print (r2_score(y_test, pred))\n",
    "print (mean_squared_error(y_test, pred))"
   ]
  },
  {
   "cell_type": "code",
   "execution_count": 168,
   "metadata": {},
   "outputs": [],
   "source": [
    "joblib.dump(clf, 'rf_regressor.pkl')\n",
    "# 10. 将test_data的训练数据输入模型，计算出结果，并保存\n",
    "\n",
    "clf = joblib.load(\"rf_regressor.pkl\")\n",
    "\n",
    "df_result = pd.DataFrame()\n",
    "df_result['ID'] = list(test_data['ID'])\n",
    "test_feature = test_data.drop('ID', axis=1)\n",
    "pre = clf.predict(test_feature)\n",
    "\n",
    "df_result['Score'] = pre\n",
    "df_result.to_csv('../submit/submit_version2.csv', index=False, header=False, float_format='%.8f')"
   ]
  },
  {
   "cell_type": "code",
   "execution_count": null,
   "metadata": {},
   "outputs": [],
   "source": []
  }
 ],
 "metadata": {
  "kernelspec": {
   "display_name": "Python 3",
   "language": "python",
   "name": "python3"
  },
  "language_info": {
   "codemirror_mode": {
    "name": "ipython",
    "version": 3
   },
   "file_extension": ".py",
   "mimetype": "text/x-python",
   "name": "python",
   "nbconvert_exporter": "python",
   "pygments_lexer": "ipython3",
   "version": "3.6.5"
  }
 },
 "nbformat": 4,
 "nbformat_minor": 2
}
